{
 "cells": [
  {
   "cell_type": "markdown",
   "metadata": {},
   "source": [
    "Objetivo: Encontrar regiões mais adensadas e maior renda per capita em São Paulo ou outros municípios a fim de buscar maior quantidade de corridas premium como motorista de aplicativo."
   ]
  },
  {
   "cell_type": "markdown",
   "metadata": {},
   "source": [
    "A demanda por corridas premium em aplicativos como Uber e 99 pode ser influenciada por dois fatores principais: a densidade populacional e a renda per capita. É possível supor que, em áreas mais densamente povoadas, haja uma maior quantidade de pessoas se deslocando com frequência, o que tende a gerar mais solicitações de transporte por aplicativo. Nessas regiões, como em centros urbanos e bairros com alta concentração de habitantes, a lógica sugere que o uso desse tipo de serviço seja mais comum devido ao grande número de potenciais usuários.\n",
    "\n",
    "Por outro lado, em locais onde a renda per capita é mais elevada, é razoável imaginar que o interesse por categorias premium, como Uber Black, seja maior. Isso se baseia na suposição de que pessoas com maior poder aquisitivo podem preferir serviços que ofereçam mais conforto e exclusividade, mesmo com tarifas mais altas. Assim, serviços que oferecem veículos de qualidade superior e motoristas com melhores qualificações podem atrair um público mais exigente, disposto a pagar por essa experiência.\n",
    "\n",
    "Da mesma forma, categorias semi-premium, como Uber Comfort e 99 Plus, poderiam ser mais populares em regiões de alta renda, pois oferecem uma combinação de conforto a um custo relativamente mais acessível. Com base nisso, regiões de maior densidade populacional e renda mais alta poderiam ter uma demanda proporcionalmente maior por essas corridas premium e semi-premium, refletindo o perfil dos habitantes que vivem ou trabalham nessas localidades."
   ]
  },
  {
   "cell_type": "markdown",
   "metadata": {},
   "source": [
    "1. Obter os dados no IBGE do Censo;\n",
    "2. Exploração dos dados obtido pelo censo;\n",
    "3. Tratamento dos dados com os cálculos necessários para visualização;\n",
    "4. Preparação da visualizações necessárias para identificação das \n",
    "   regiões com maiores densidades e renda."
   ]
  },
  {
   "cell_type": "markdown",
   "metadata": {},
   "source": [
    "1. Obter os dados no IBGE do Censo\n",
    "\n",
    "    Hoje, nós estamos em 2024 e o censo de 2022 saiu preliminarmente contendo apenas os dados populacionais. No entanto, já que o estudo envolve população e renda, será utilizado os dados de 2010 que estão completos. Sabe-se que em 14 anos, teremos diferença nos dados, mas ao analisar o aumento populacional em São Paulo e São Bernardo do Campo, 1,7% e 5,9% respectivamente, de 2010 a 2022, provavelmente, não obtém-se grandes diferenças habitacionais no período. No entanto, a atualização deste estudo se torna peremptória para a assertividade do objetivo estipulado assim que divulgado os dados do Censo de 2022.\n",
    "\n",
    "    O que são os setores censitários?\n",
    "\n",
    "        \"Os setores censitários são a menor porção de área utilizadas pelo IBGE para planejar, coletar e disseminar os resultados dos Censos e Pesquisas Estatísticas. \n",
    "         Esses setores são definidos a partir de diversos critérios:\n",
    "            * A área e o número de domicílios do setor devem ser passíveis de serem percorridos e visitados por um único recenseador em tempo hábil.\n",
    "            * O recorte do setor deve ser representativo em relação à população local.\n",
    "            * O setor deve ter um número de domicílios suficiente para que seus dados agregados preservem o sigilo dos moradores\"\n",
    "            (G1 - https://g1.globo.com/economia/censo/noticia/2024/03/21/o-que-e-o-setor-censitario-medida-usada-pelo-ibge-para-fazer-o-censo.ghtml)\n",
    "\n",
    "    Dados:\n",
    "    \n",
    "        Diretório do censo de todos os estados do Brasil por setor censitário:\n",
    "            https://ftp.ibge.gov.br/Censos/Censo_Demografico_2010/Resultados_do_Universo/Agregados_por_Setores_Censitarios/\n",
    "    \n",
    "        Diretório dos arquivos geográficos dos setores censitários:\n",
    "            https://geoftp.ibge.gov.br/organizacao_do_territorio/malhas_territoriais/malhas_de_setores_censitarios__divisoes_intramunicipais/censo_2010/setores_censitarios_shp/"
   ]
  },
  {
   "cell_type": "markdown",
   "metadata": {},
   "source": [
    "Importação de bibliotecas"
   ]
  },
  {
   "cell_type": "code",
   "execution_count": 39,
   "metadata": {},
   "outputs": [],
   "source": [
    "import os # Criação de estrutura de pastas e manuseamento de arquivos\n",
    "from ftplib import FTP # Biblioteca para download dos arquivos de servidor ftp\n",
    "from zipfile import ZipFile # Biblioteca para descompactar os arquivos\n",
    "import pandas as pd # Tratamento dos dados \n",
    "import geopandas as gpd # Tratamento dos dados geográficos\n",
    "import matplotlib.pyplot as plt # Biblioteca para visualização gráfica dos dados\n",
    "import folium"
   ]
  },
  {
   "cell_type": "markdown",
   "metadata": {},
   "source": [
    "Estrutura de pastas"
   ]
  },
  {
   "cell_type": "code",
   "execution_count": 40,
   "metadata": {},
   "outputs": [
    {
     "name": "stdout",
     "output_type": "stream",
     "text": [
      "Directory already created!\n",
      "Directory already created!\n"
     ]
    }
   ],
   "source": [
    "parent_dir = os.getcwd() # Identificação do diretório de trabalho\n",
    "\n",
    "\"\"\"\n",
    "Criação dos diretórios para arquivamento dos arquivos\n",
    "data: Arquivos baixados e a serem utilizados para tratamento.\n",
    "artifacts: Todos os arquivos criados para utilização e visualização.\n",
    "\"\"\"\n",
    "\n",
    "directories = [\"data\", \"artifacts\"] \n",
    "for directory in directories:\n",
    "    path = os.path.join(parent_dir, directory)\n",
    "    try:\n",
    "        os.mkdir(path)\n",
    "    except FileExistsError:\n",
    "        print(\"Directory already created!\")\n",
    "        \n",
    "data_dir = os.path.join(parent_dir, directories[0])\n",
    "artifacts_dir = os.path.join(parent_dir, directories[1])"
   ]
  },
  {
   "cell_type": "markdown",
   "metadata": {},
   "source": [
    "Download de arquivos"
   ]
  },
  {
   "cell_type": "markdown",
   "metadata": {},
   "source": [
    "Acessando os servidores FTP e baixando os arquivos."
   ]
  },
  {
   "cell_type": "code",
   "execution_count": 41,
   "metadata": {},
   "outputs": [
    {
     "name": "stdout",
     "output_type": "stream",
     "text": [
      "-rwxrwxr-x    1 ftp      ftp          1979 Oct 30  2023 1_Atualizacoes_20231030.txt\n",
      "-rwxrwxr-x    1 ftp      ftp       5579523 Oct 30  2023 AC_20231030.zip\n",
      "-rwxrwxr-x    1 ftp      ftp      22399914 Oct 30  2023 AL_20231030.zip\n",
      "-rwxrwxr-x    1 ftp      ftp      31064700 Oct 30  2023 AM_20231030.zip\n",
      "-rwxrwxr-x    1 ftp      ftp       5194028 Oct 30  2023 AP_20231030.zip\n",
      "-rwxrwxr-x    1 ftp      ftp      126886126 Oct 30  2023 BA_20231030.zip\n",
      "-rwxrwxr-x    1 ftp      ftp      71781739 Oct 30  2023 CE_20231030.zip\n",
      "-rwxrwxr-x    1 ftp      ftp      21585996 Oct 30  2023 DF_20231030.zip\n",
      "-rwxrwxr-x    1 ftp      ftp      34133643 Oct 30  2023 Documentacao_Agregado_dos_Setores_2010_20231030.zip\n",
      "-rwxrwxr-x    1 ftp      ftp      37084676 Oct 30  2023 ES_20231030.zip\n",
      "-rwxrwxr-x    1 ftp      ftp      53664403 Oct 30  2023 GO_20231030.zip\n",
      "-rwxrwxr-x    1 ftp      ftp      48421505 Oct 30  2023 MA_20231030.zip\n",
      "-rwxrwxr-x    1 ftp      ftp      169948641 Oct 30  2023 MG_20231030.zip\n",
      "-rwxrwxr-x    1 ftp      ftp      24003740 Oct 30  2023 MS_20231030.zip\n",
      "-rwxrwxr-x    1 ftp      ftp      33560259 Oct 30  2023 MT_20231030.zip\n",
      "-rwxrwxr-x    1 ftp      ftp      51337258 Oct 30  2023 PA_20231030.zip\n",
      "-rwxrwxr-x    1 ftp      ftp      32117184 Oct 30  2023 PB_20231030.zip\n",
      "-rwxrwxr-x    1 ftp      ftp      66712693 Oct 30  2023 PE_20231030.zip\n",
      "-rwxrwxr-x    1 ftp      ftp      28877401 Oct 30  2023 PI_20231030.zip\n",
      "-rwxrwxr-x    1 ftp      ftp      98907434 Oct 30  2023 PR_20231030.zip\n",
      "-rwxrwxr-x    1 ftp      ftp      152283142 Oct 30  2023 RJ_20231030.zip\n",
      "-rwxrwxr-x    1 ftp      ftp      25645515 Oct 30  2023 RN_20231030.zip\n",
      "-rwxrwxr-x    1 ftp      ftp      13908706 Oct 30  2023 RO_20231030.zip\n",
      "-rwxrwxr-x    1 ftp      ftp       4713638 Oct 30  2023 RR_20231030.zip\n",
      "-rwxrwxr-x    1 ftp      ftp      113616603 Oct 30  2023 RS_20231030.zip\n",
      "-rwxrwxr-x    1 ftp      ftp      68106531 Oct 30  2023 SC_20231030.zip\n",
      "-rwxrwxr-x    1 ftp      ftp      18396356 Oct 30  2023 SE_20231030.zip\n",
      "-rwxrwxr-x    1 ftp      ftp      165940073 Oct 30  2023 SP_Capital_20231030.zip\n",
      "-rwxrwxr-x    1 ftp      ftp      443138231 Oct 30  2023 SP_Exceto_Capital_20231030.zip\n",
      "-rwxrwxr-x    1 ftp      ftp      12045278 Oct 30  2023 TO_20231030.zip\n"
     ]
    }
   ],
   "source": [
    "ftp_server = \"ftp.ibge.gov.br\" # Servidor FTP do IBGE\n",
    "ftp_dir = \"Censos/Censo_Demografico_2010/Resultados_do_Universo/\"\\\n",
    "    \"Agregados_por_Setores_Censitarios/\" # Diretório a ser acessado\n",
    "# O servidor aceita acesso público, portanto user e password desnecessários\n",
    "user = \"anonymous\" # Inserir anonymous para entrar no servidor\n",
    "passwd = \"\"\n",
    "\n",
    "ftp = FTP(ftp_server, user, passwd) # Configuração da variável de acesso ao servidor\n",
    "ftp.cwd(ftp_dir) # Acessando o diretório escolhido\n",
    "files = ftp.nlst() # variável contendo o conteúdo do diretório\n",
    "\n",
    "ftp.dir() # Listagem do conteúdo do diretório"
   ]
  },
  {
   "cell_type": "markdown",
   "metadata": {},
   "source": [
    "Nota-se que temos 3 tipos de arquivos:\n",
    "  * 1 arquivo texto\n",
    "  * 1 arquivo de documentação compactado\n",
    "  * Arquivos do censo de cada estado compactado"
   ]
  },
  {
   "cell_type": "code",
   "execution_count": 42,
   "metadata": {},
   "outputs": [
    {
     "data": {
      "text/plain": [
       "'221 Goodbye.'"
      ]
     },
     "execution_count": 42,
     "metadata": {},
     "output_type": "execute_result"
    }
   ],
   "source": [
    "docum = \"Documentacao_Agregado\" # variável para obter o arquivo de documentação\n",
    "UFs = [\"SP\"] # lsita dos estados desejados\n",
    "files_check = [ filename for filename in os.listdir(data_dir) ] # lista dos arquivos no diretório \n",
    "\n",
    "# Loop para download dos arquivos no servidor FTP\n",
    "for file in files:\n",
    "        if (file.startswith(docum) or file[:2] in UFs) and (file not in files_check):\n",
    "            with open(os.path.join(data_dir,file), 'wb') as fp:\n",
    "                ftp.retrbinary('RETR ' + file, fp.write)\n",
    "                print(file+\" downloaded to \"+data_dir)\n",
    "\n",
    "ftp.quit() # fechamento da conexão com o servidor FTP"
   ]
  },
  {
   "cell_type": "code",
   "execution_count": 50,
   "metadata": {},
   "outputs": [
    {
     "name": "stdout",
     "output_type": "stream",
     "text": [
      "drwxrwxr-x    2 ftp      ftp          4096 Jun 14  2016 1_leia_me\n",
      "drwxrwxr-x    2 ftp      ftp          4096 Jun 14  2016 ac\n",
      "drwxrwxr-x    2 ftp      ftp          4096 Jun 14  2016 al\n",
      "drwxrwxr-x    2 ftp      ftp          4096 Jun 14  2016 am\n",
      "drwxrwxr-x    2 ftp      ftp          4096 Jun 14  2016 ap\n",
      "drwxrwxr-x    2 ftp      ftp          4096 Jun 14  2016 ba\n",
      "drwxrwxr-x    2 ftp      ftp          4096 Jun 14  2016 ce\n",
      "drwxrwxr-x    2 ftp      ftp          4096 Jun 14  2016 df\n",
      "drwxrwxr-x    2 ftp      ftp          4096 Jun 14  2016 es\n",
      "drwxrwxr-x    2 ftp      ftp          4096 Jun 14  2016 go\n",
      "drwxrwxr-x    2 ftp      ftp          4096 Jun 14  2016 ma\n",
      "drwxrwxr-x    2 ftp      ftp          4096 Jun 14  2016 mg\n",
      "drwxrwxr-x    2 ftp      ftp          4096 Jun 14  2016 ms\n",
      "drwxrwxr-x    2 ftp      ftp          4096 Jun 14  2016 mt\n",
      "drwxrwxr-x    2 ftp      ftp          4096 Jun 14  2016 pa\n",
      "drwxrwxr-x    2 ftp      ftp          4096 Jun 14  2016 pb\n",
      "drwxrwxr-x    2 ftp      ftp          4096 Jun 14  2016 pe\n",
      "drwxrwxr-x    2 ftp      ftp          4096 Jun 14  2016 pi\n",
      "drwxrwxr-x    2 ftp      ftp          4096 Jun 14  2016 pr\n",
      "drwxrwxr-x    2 ftp      ftp          4096 Jun 14  2016 rj\n",
      "drwxrwxr-x    2 ftp      ftp          4096 Jun 14  2016 rn\n",
      "drwxrwxr-x    2 ftp      ftp          4096 Jun 14  2016 ro\n",
      "drwxrwxr-x    2 ftp      ftp          4096 Jun 14  2016 rr\n",
      "drwxrwxr-x    2 ftp      ftp          4096 Jun 14  2016 rs\n",
      "drwxrwxr-x    2 ftp      ftp          4096 Jun 14  2016 sc\n",
      "drwxrwxr-x    2 ftp      ftp          4096 Jun 14  2016 se\n",
      "drwxrwxr-x    2 ftp      ftp          4096 Nov 04  2020 sp\n",
      "drwxrwxr-x    2 ftp      ftp          4096 Jun 14  2016 to\n"
     ]
    }
   ],
   "source": [
    "# Acessando o servidor ftp com as informações geográficas dos setores censitários\n",
    "ftp_server = \"geoftp.ibge.gov.br\"\n",
    "ftp_dir = \"organizacao_do_territorio/malhas_territoriais/\"\\\n",
    "    \"malhas_de_setores_censitarios__divisoes_intramunicipais/censo_2010/\"\\\n",
    "    \"setores_censitarios_shp/\"\n",
    "user = \"anonymous\"\n",
    "passwd = \"\"\n",
    "\n",
    "ftp = FTP(ftp_server, user, passwd)\n",
    "ftp.cwd(ftp_dir)\n",
    "ftp.dir()"
   ]
  },
  {
   "cell_type": "code",
   "execution_count": 47,
   "metadata": {},
   "outputs": [
    {
     "name": "stdout",
     "output_type": "stream",
     "text": [
      "-rw-rw-r--    1 ftp      ftp      11116004 Jun 14  2016 sp_distritos.zip\n",
      "-rw-rw-r--    1 ftp      ftp       9387313 Jun 14  2016 sp_municipios.zip\n",
      "-rwxrwxr-x    1 ftp      ftp      45523805 Nov 04  2020 sp_setores_censitarios.zip\n",
      "-rw-rw-r--    1 ftp      ftp      11108462 Jun 14  2016 sp_subdistritos.zip\n"
     ]
    }
   ],
   "source": [
    "ftp.dir('sp')"
   ]
  },
  {
   "cell_type": "markdown",
   "metadata": {},
   "source": [
    "Verifica-se que dentro do diretório há quatro arquivos com as divisões dos municípios, distritos, subdistritos e setores censitários. Neste momento, deseja-se os setores censitários."
   ]
  },
  {
   "cell_type": "code",
   "execution_count": 51,
   "metadata": {},
   "outputs": [
    {
     "data": {
      "text/plain": [
       "'221 Goodbye.'"
      ]
     },
     "execution_count": 51,
     "metadata": {},
     "output_type": "execute_result"
    }
   ],
   "source": [
    "UFs_geo = ['sp'] # lista dos estados\n",
    "extension_geo = \"_setores_censitarios.zip\" # variável com a extensão dos arquivos a serem baixados\n",
    "files_check = [ filename for filename in os.listdir(data_dir) ] \n",
    "\n",
    "# Loop entre todos os diretórios dos estados para download dos arquivos geográficos\n",
    "for UF_geo in UFs_geo:\n",
    "    ftp.cwd(UF_geo) \n",
    "    files = ftp.nlst()\n",
    "    for file in files:\n",
    "        if (file == UF_geo+extension_geo) and (file not in files_check):\n",
    "            with open(os.path.join(data_dir,file), 'wb') as fp:\n",
    "                ftp.retrbinary('RETR ' + file, fp.write)\n",
    "                print(file+\" downloaded to \"+data_dir)\n",
    "    ftp.cwd(\"..\") # Voltando ao diretório anterior para repetição do processo\n",
    "ftp.quit()"
   ]
  },
  {
   "cell_type": "markdown",
   "metadata": {},
   "source": [
    "Extração dos arquivos compactados."
   ]
  },
  {
   "cell_type": "code",
   "execution_count": 52,
   "metadata": {},
   "outputs": [
    {
     "data": {
      "text/plain": [
       "['Documentacao_Agregado_dos_Setores_2010_20231030.zip',\n",
       " 'SP_Capital_20231030.zip',\n",
       " 'SP_Exceto_Capital_20231030.zip',\n",
       " 'sp_setores_censitarios.zip']"
      ]
     },
     "execution_count": 52,
     "metadata": {},
     "output_type": "execute_result"
    }
   ],
   "source": [
    "data_dir_files = os.listdir(data_dir) # Lista dos arquivos no diretório 'data'\n",
    "data_dir_files"
   ]
  },
  {
   "cell_type": "code",
   "execution_count": null,
   "metadata": {},
   "outputs": [],
   "source": [
    "for file in data_dir_files:\n",
    "    try:\n",
    "        if file.split(\".\")[1] == \"zip\":\n",
    "            file_zipped = ZipFile(os.path.join(data_dir,file))\n",
    "            \n",
    "            new_folder_path = os.path.join(data_dir, file.split(\".zip\")[0])\n",
    "            \n",
    "            if not os.path.exists(new_folder_path):\n",
    "                file_zipped.extractall(new_folder_path)\n",
    "            \n",
    "            file_zipped.close()\n",
    "    except:\n",
    "        print(f\"{file} - Not a zipped file\")"
   ]
  },
  {
   "cell_type": "code",
   "execution_count": null,
   "metadata": {},
   "outputs": [],
   "source": [
    "files_list =[]\n",
    "\n",
    "for dirpath, dirnames, filenames in os.walk(data_dir):\n",
    "    for filename in filenames:\n",
    "        file_path = os.path.join(dirpath, filename)\n",
    "        files_list.append(file_path)\n",
    "        \n",
    "files_list"
   ]
  },
  {
   "cell_type": "markdown",
   "metadata": {},
   "source": [
    "Tratamento de dados"
   ]
  },
  {
   "cell_type": "code",
   "execution_count": null,
   "metadata": {},
   "outputs": [],
   "source": [
    "files_list_df =pd.DataFrame(files_list, columns=['filepaths'])\n",
    "files_list_df"
   ]
  },
  {
   "cell_type": "code",
   "execution_count": 14,
   "metadata": {},
   "outputs": [],
   "source": [
    "file_str_earning = 'Basico_' + 'SP1'\n",
    "file_str_pop = 'pessoa13_' + 'sp1'"
   ]
  },
  {
   "cell_type": "code",
   "execution_count": 15,
   "metadata": {},
   "outputs": [],
   "source": [
    "get_path_earning = files_list_df['filepaths'].str.contains(file_str_earning)\n",
    "get_path_pop = files_list_df['filepaths'].str.contains(file_str_pop)"
   ]
  },
  {
   "cell_type": "code",
   "execution_count": null,
   "metadata": {},
   "outputs": [],
   "source": [
    "file_path_earning = files_list_df.loc[get_path_earning, 'filepaths'].values[0]\n",
    "print(file_path_earning)\n",
    "file_path_pop = files_list_df.loc[get_path_pop,'filepaths'].values[0]\n",
    "print(file_path_pop)"
   ]
  },
  {
   "cell_type": "code",
   "execution_count": null,
   "metadata": {},
   "outputs": [],
   "source": [
    "city_earning = pd.read_csv(file_path_earning, encoding='iso-8859-1', sep=';')\n",
    "city_earning.head().T"
   ]
  },
  {
   "cell_type": "code",
   "execution_count": null,
   "metadata": {},
   "outputs": [],
   "source": [
    "city_earning.info()"
   ]
  },
  {
   "cell_type": "code",
   "execution_count": null,
   "metadata": {},
   "outputs": [],
   "source": [
    "city_earning.isnull().sum()"
   ]
  },
  {
   "cell_type": "code",
   "execution_count": null,
   "metadata": {},
   "outputs": [],
   "source": [
    "stg_city_earning = city_earning[['Cod_setor','Nome_do_municipio','Nome_do_distrito','Nome_do_bairro', 'V009']].reset_index(drop=True).copy()\n",
    "stg_city_earning.head()"
   ]
  },
  {
   "cell_type": "code",
   "execution_count": null,
   "metadata": {},
   "outputs": [],
   "source": [
    "stg_city_earning['Nome_do_municipio'].unique()"
   ]
  },
  {
   "cell_type": "code",
   "execution_count": null,
   "metadata": {},
   "outputs": [],
   "source": [
    "city_pop = pd.read_csv(file_path_pop, encoding='iso-8859-1', sep=';')\n",
    "city_pop.head()"
   ]
  },
  {
   "cell_type": "code",
   "execution_count": null,
   "metadata": {},
   "outputs": [],
   "source": [
    "city_pop.info()"
   ]
  },
  {
   "cell_type": "code",
   "execution_count": null,
   "metadata": {},
   "outputs": [],
   "source": [
    "city_pop.isnull().sum()"
   ]
  },
  {
   "cell_type": "code",
   "execution_count": null,
   "metadata": {},
   "outputs": [],
   "source": [
    "null_values = city_pop.isnull().sum()\n",
    "null_values[null_values >= 1]"
   ]
  },
  {
   "cell_type": "code",
   "execution_count": 26,
   "metadata": {},
   "outputs": [],
   "source": [
    "stg_city_pop = city_pop[['Cod_setor','V001']].reset_index(drop=True).copy()"
   ]
  },
  {
   "cell_type": "code",
   "execution_count": null,
   "metadata": {},
   "outputs": [],
   "source": [
    "stg_city_earning.info()"
   ]
  },
  {
   "cell_type": "code",
   "execution_count": null,
   "metadata": {},
   "outputs": [],
   "source": [
    "stg_city_pop.info()"
   ]
  },
  {
   "cell_type": "code",
   "execution_count": 29,
   "metadata": {},
   "outputs": [],
   "source": [
    "stg_city_pop['Cod_setor'] = stg_city_pop['Cod_setor'].astype('str')\n",
    "stg_city_earning['Cod_setor'] = stg_city_earning['Cod_setor'].astype('str')"
   ]
  },
  {
   "cell_type": "code",
   "execution_count": null,
   "metadata": {},
   "outputs": [],
   "source": [
    "stg_city = pd.merge(stg_city_earning, stg_city_pop, on='Cod_setor')\n",
    "stg_city.head()"
   ]
  },
  {
   "cell_type": "code",
   "execution_count": null,
   "metadata": {},
   "outputs": [],
   "source": [
    "stg_city.info()"
   ]
  },
  {
   "cell_type": "code",
   "execution_count": null,
   "metadata": {},
   "outputs": [],
   "source": [
    "stg_city['V009'] = stg_city['V009'].str.replace(\",\", \".\")\n",
    "stg_city.head(10)"
   ]
  },
  {
   "cell_type": "code",
   "execution_count": 33,
   "metadata": {},
   "outputs": [],
   "source": [
    "stg_city['V009'] = stg_city['V009'].astype('float64')"
   ]
  },
  {
   "cell_type": "code",
   "execution_count": 34,
   "metadata": {},
   "outputs": [],
   "source": [
    "stg_city.rename(columns={'V001':'pop', 'V009':'renda'}, inplace=True)"
   ]
  },
  {
   "cell_type": "code",
   "execution_count": null,
   "metadata": {},
   "outputs": [],
   "source": [
    "stg_city.head()"
   ]
  },
  {
   "cell_type": "code",
   "execution_count": 36,
   "metadata": {},
   "outputs": [],
   "source": [
    "mask = stg_city['Nome_do_municipio'].str.contains(\"SÃO PAULO\")\n",
    "stg_city = stg_city[mask].copy()"
   ]
  },
  {
   "cell_type": "code",
   "execution_count": null,
   "metadata": {},
   "outputs": [],
   "source": [
    "stg_city.head().T"
   ]
  },
  {
   "cell_type": "code",
   "execution_count": null,
   "metadata": {},
   "outputs": [],
   "source": [
    "stg_city['Nome_do_distrito'].unique()"
   ]
  },
  {
   "cell_type": "markdown",
   "metadata": {},
   "source": [
    "Tratamento de dados geográficos"
   ]
  },
  {
   "cell_type": "code",
   "execution_count": null,
   "metadata": {},
   "outputs": [],
   "source": [
    "file_str_geo = '35SEE250GC_SIR.shp'\n",
    "get_path_geo = files_list_df['filepaths'].str.contains(file_str_geo)\n",
    "file_path_geo = files_list_df.loc[get_path_geo, 'filepaths'].values[0]\n",
    "print(file_path_geo)"
   ]
  },
  {
   "cell_type": "code",
   "execution_count": 40,
   "metadata": {},
   "outputs": [],
   "source": [
    "cities_setores_censitarios = gpd.read_file(file_path_geo)"
   ]
  },
  {
   "cell_type": "code",
   "execution_count": null,
   "metadata": {},
   "outputs": [],
   "source": [
    "cities_setores_censitarios.head().T"
   ]
  },
  {
   "cell_type": "code",
   "execution_count": 42,
   "metadata": {},
   "outputs": [],
   "source": [
    "stg_cities_setores_censitarios = cities_setores_censitarios.copy()"
   ]
  },
  {
   "cell_type": "code",
   "execution_count": null,
   "metadata": {},
   "outputs": [],
   "source": [
    "stg_cities_setores_censitarios.head(10).T"
   ]
  },
  {
   "cell_type": "code",
   "execution_count": null,
   "metadata": {},
   "outputs": [],
   "source": [
    "stg_cities_setores_censitarios.info()"
   ]
  },
  {
   "cell_type": "code",
   "execution_count": null,
   "metadata": {},
   "outputs": [],
   "source": [
    "stg_cities_setores_censitarios.isnull().sum()"
   ]
  },
  {
   "cell_type": "code",
   "execution_count": null,
   "metadata": {},
   "outputs": [],
   "source": [
    "stg_cities_setores_censitarios['NM_MUNICIP'].unique()"
   ]
  },
  {
   "cell_type": "code",
   "execution_count": null,
   "metadata": {},
   "outputs": [],
   "source": [
    "mask = stg_cities_setores_censitarios['NM_MUNICIP'].str.contains('SÃO PAULO', case=False)\n",
    "stg_city_setores_censitarios = stg_cities_setores_censitarios[mask].reset_index(drop=True).copy()\n",
    "stg_city_setores_censitarios.head().T"
   ]
  },
  {
   "cell_type": "code",
   "execution_count": null,
   "metadata": {},
   "outputs": [],
   "source": [
    "stg_city_setores_censitarios.info()"
   ]
  },
  {
   "cell_type": "code",
   "execution_count": null,
   "metadata": {},
   "outputs": [],
   "source": [
    "stg_city_setores_censitarios.rename(columns={'CD_GEOCODI':'Cod_setor'}, inplace=True)\n",
    "stg_city_setores_censitarios.head().T"
   ]
  },
  {
   "cell_type": "code",
   "execution_count": null,
   "metadata": {},
   "outputs": [],
   "source": [
    "stg_city_setores_censitarios = stg_city_setores_censitarios.to_crs(epsg=31983)\n",
    "stg_city_setores_censitarios['geometry'].head()"
   ]
  },
  {
   "cell_type": "code",
   "execution_count": 51,
   "metadata": {},
   "outputs": [],
   "source": [
    "stg_city_setores_censitarios['area_ha'] = stg_city_setores_censitarios['geometry'].area / 1e4"
   ]
  },
  {
   "cell_type": "code",
   "execution_count": 52,
   "metadata": {},
   "outputs": [],
   "source": [
    "stg_city_setores_censitarios = stg_city_setores_censitarios.to_crs(epsg=4326)"
   ]
  },
  {
   "cell_type": "code",
   "execution_count": null,
   "metadata": {},
   "outputs": [],
   "source": [
    "stg_city_setores_censitarios.head().T"
   ]
  },
  {
   "cell_type": "code",
   "execution_count": 54,
   "metadata": {},
   "outputs": [],
   "source": [
    "stg_city_setores_censitarios['Cod_setor'] = stg_city_setores_censitarios['Cod_setor'].astype('str')"
   ]
  },
  {
   "cell_type": "markdown",
   "metadata": {},
   "source": [
    "Exploração de dados"
   ]
  },
  {
   "cell_type": "code",
   "execution_count": null,
   "metadata": {},
   "outputs": [],
   "source": [
    "stg_city_setores_censitarios['Cod_setor']"
   ]
  },
  {
   "cell_type": "code",
   "execution_count": null,
   "metadata": {},
   "outputs": [],
   "source": [
    "stg_city['Cod_setor']"
   ]
  },
  {
   "cell_type": "code",
   "execution_count": null,
   "metadata": {},
   "outputs": [],
   "source": [
    "diff_in_series = set(stg_city_setores_censitarios['Cod_setor']).difference(stg_city['Cod_setor'])\n",
    "diff_in_series"
   ]
  },
  {
   "cell_type": "code",
   "execution_count": null,
   "metadata": {},
   "outputs": [],
   "source": [
    "stg_city_setores_censitarios[stg_city_setores_censitarios['Cod_setor'].str.contains('355030803000065')]"
   ]
  },
  {
   "cell_type": "code",
   "execution_count": null,
   "metadata": {},
   "outputs": [],
   "source": [
    "stg_city.head().T"
   ]
  },
  {
   "cell_type": "code",
   "execution_count": null,
   "metadata": {},
   "outputs": [],
   "source": [
    "stg_city.info()"
   ]
  },
  {
   "cell_type": "code",
   "execution_count": null,
   "metadata": {},
   "outputs": [],
   "source": [
    "stg_city.describe()"
   ]
  },
  {
   "cell_type": "markdown",
   "metadata": {},
   "source": [
    "stg_city[stg_city['Nome_do_distrito'].str.contains('ANHANGUERA')][60:70]"
   ]
  },
  {
   "cell_type": "markdown",
   "metadata": {},
   "source": [
    "stg_city_setores_censitarios[stg_city_setores_censitarios['NM_DISTRIT'].str.contains('ANHANGUERA')][70:80].T"
   ]
  },
  {
   "cell_type": "code",
   "execution_count": 62,
   "metadata": {},
   "outputs": [],
   "source": [
    "stg1_city_setores_censitarios = stg_city_setores_censitarios[['Cod_setor', 'geometry', 'area_ha']].copy()"
   ]
  },
  {
   "cell_type": "code",
   "execution_count": null,
   "metadata": {},
   "outputs": [],
   "source": [
    "stg1_city_setores_censitarios.head().T"
   ]
  },
  {
   "cell_type": "code",
   "execution_count": 64,
   "metadata": {},
   "outputs": [],
   "source": [
    "stg_city = pd.merge(stg_city, stg1_city_setores_censitarios, on='Cod_setor')"
   ]
  },
  {
   "cell_type": "code",
   "execution_count": null,
   "metadata": {},
   "outputs": [],
   "source": [
    "stg_city.head().T"
   ]
  },
  {
   "cell_type": "code",
   "execution_count": null,
   "metadata": {},
   "outputs": [],
   "source": [
    "stg_city.info()"
   ]
  },
  {
   "cell_type": "code",
   "execution_count": null,
   "metadata": {},
   "outputs": [],
   "source": [
    "stg_city.isnull().sum()"
   ]
  },
  {
   "cell_type": "code",
   "execution_count": 68,
   "metadata": {},
   "outputs": [],
   "source": [
    "stg_city['dens_pop'] = stg_city['pop'] / stg_city['area_ha']"
   ]
  },
  {
   "cell_type": "code",
   "execution_count": null,
   "metadata": {},
   "outputs": [],
   "source": [
    "stg_city.head().T"
   ]
  },
  {
   "cell_type": "code",
   "execution_count": null,
   "metadata": {},
   "outputs": [],
   "source": [
    "bairros =  stg_city.groupby('Nome_do_distrito').agg({'renda':'mean', 'pop':'sum', 'area_ha':'sum'})\n",
    "bairros['dens_pop'] = bairros['pop'] / bairros['area_ha']\n",
    "bairros"
   ]
  },
  {
   "cell_type": "code",
   "execution_count": null,
   "metadata": {},
   "outputs": [],
   "source": [
    "bairros.describe()"
   ]
  },
  {
   "cell_type": "code",
   "execution_count": null,
   "metadata": {},
   "outputs": [],
   "source": [
    "q3_bairros_renda = bairros['renda'].quantile(0.75)\n",
    "print(q3_bairros_renda)\n",
    "\n",
    "q1_bairros_dens = bairros['dens_pop'].quantile(0.25)\n",
    "print(q1_bairros_dens)\n",
    "\n",
    "mask = (bairros['renda']>=q3_bairros_renda) & (bairros['dens_pop']>=q1_bairros_dens)\n",
    "\n",
    "bairros[mask].sort_values('renda', ascending=False)"
   ]
  },
  {
   "cell_type": "code",
   "execution_count": null,
   "metadata": {},
   "outputs": [],
   "source": [
    "plt.scatter(bairros['dens_pop'], bairros['renda'])\n",
    "\n",
    "plt.show()"
   ]
  },
  {
   "cell_type": "markdown",
   "metadata": {},
   "source": [
    "Visualização de dados"
   ]
  },
  {
   "cell_type": "code",
   "execution_count": null,
   "metadata": {},
   "outputs": [],
   "source": [
    "plt.figure(figsize=(15,5))\n",
    "\n",
    "plt.subplot(1,2,1)\n",
    "plt.hist(stg_city['renda'], bins=30, edgecolor='k')\n",
    "plt.xlabel('R$ per capita')\n",
    "plt.ylabel('Frequencia')\n",
    "\n",
    "plt.subplot(1,2,2)\n",
    "stg_city.boxplot(column='renda')\n",
    "plt.ylabel('R$ per capita')\n",
    "\n",
    "plt.show()"
   ]
  },
  {
   "cell_type": "code",
   "execution_count": null,
   "metadata": {},
   "outputs": [],
   "source": [
    "plt.figure(figsize=(15,5))\n",
    "\n",
    "plt.subplot(1,2,1)\n",
    "plt.hist(stg_city['pop'], bins=30, edgecolor='k')\n",
    "plt.xlabel('População - hab')\n",
    "plt.ylabel('Frequencia')\n",
    "\n",
    "plt.subplot(1,2,2)\n",
    "stg_city.boxplot(column='pop')\n",
    "plt.ylabel('População')\n",
    "\n",
    "plt.show()"
   ]
  },
  {
   "cell_type": "code",
   "execution_count": null,
   "metadata": {},
   "outputs": [],
   "source": [
    "plt.figure(figsize=(15,5))\n",
    "\n",
    "plt.subplot(1,2,1)\n",
    "plt.hist(stg_city['dens_pop'], bins=30, edgecolor='k')\n",
    "plt.xlabel('Densidade populacional - hab/ha')\n",
    "plt.ylabel('Frequencia')\n",
    "\n",
    "plt.subplot(1,2,2)\n",
    "stg_city.boxplot(column='dens_pop')\n",
    "plt.ylabel('Densidade populacional - hab/ha')\n",
    "\n",
    "plt.show()"
   ]
  },
  {
   "cell_type": "code",
   "execution_count": null,
   "metadata": {},
   "outputs": [],
   "source": [
    "stg_city.describe()"
   ]
  },
  {
   "cell_type": "code",
   "execution_count": null,
   "metadata": {},
   "outputs": [],
   "source": [
    "q3_renda = stg_city['renda'].quantile(0.75)\n",
    "q3_dens_pop = stg_city['dens_pop'].quantile(0.50)\n",
    "\n",
    "mask = (stg_city['renda'] >= q3_renda) & (stg_city['dens_pop'] >= q3_dens_pop)\n",
    "top_25_stg_city = stg_city[mask].copy()\n",
    "top_25_stg_city.head().T"
   ]
  },
  {
   "cell_type": "code",
   "execution_count": null,
   "metadata": {},
   "outputs": [],
   "source": [
    "top_25_stg_city.info()"
   ]
  },
  {
   "cell_type": "code",
   "execution_count": null,
   "metadata": {},
   "outputs": [],
   "source": [
    "top_25_stg_city.describe()"
   ]
  },
  {
   "cell_type": "markdown",
   "metadata": {},
   "source": [
    "Visualização geográfica"
   ]
  },
  {
   "cell_type": "markdown",
   "metadata": {},
   "source": [
    "file_str_geo = '35DSE250GC_SIR.shp'\n",
    "get_path_geo = files_list_df['filepaths'].str.contains(file_str_geo)\n",
    "file_path_geo = files_list_df.loc[get_path_geo, 'filepaths'].values[0]\n",
    "print(file_path_geo)"
   ]
  },
  {
   "cell_type": "markdown",
   "metadata": {},
   "source": [
    "cities_distritos = gpd.read_file(file_path_geo)"
   ]
  },
  {
   "cell_type": "markdown",
   "metadata": {},
   "source": [
    "cities_distritos.head().T"
   ]
  },
  {
   "cell_type": "markdown",
   "metadata": {},
   "source": [
    "cities_distritos.info()"
   ]
  },
  {
   "cell_type": "markdown",
   "metadata": {},
   "source": [
    "cities_distritos[cities_distritos['CD_GEOCODD'].str.contains('355030804')]['geometry']"
   ]
  },
  {
   "cell_type": "code",
   "execution_count": 92,
   "metadata": {},
   "outputs": [],
   "source": [
    "top_25_stg_city_gdf = gpd.GeoDataFrame(top_25_stg_city, geometry='geometry')"
   ]
  },
  {
   "cell_type": "code",
   "execution_count": null,
   "metadata": {},
   "outputs": [],
   "source": [
    "hotels_list_path = os.path.join(data_dir, 'hotels_list.csv')\n",
    "\n",
    "hotels_list_df = pd.read_csv(hotels_list_path)\n",
    "\n",
    "hotels_list_df"
   ]
  },
  {
   "cell_type": "code",
   "execution_count": 94,
   "metadata": {},
   "outputs": [],
   "source": [
    "map = folium.Map(location=[-23.5633, -46.66744],\n",
    "                 tiles='Cartodb Positron',\n",
    "                 zoom_start=13)\n",
    "\n",
    "borders_style = {\n",
    "    'color': 'green',\n",
    "    'weight': 1,\n",
    "    'fillColor': 'green',\n",
    "    'fillOpacity': 0.15,\n",
    "}\n",
    "\n",
    "top_25 = folium.GeoJson(data=top_25_stg_city_gdf,\n",
    "                             name='Top 25% renda e densidade populacional',\n",
    "                             style_function=lambda x: borders_style,\n",
    "                             )\n",
    "\n",
    "top_25.add_to(map)\n",
    "\n",
    "for index, row in hotels_list_df.iterrows():\n",
    "    folium.Marker(\n",
    "        location=[row['latitude'], row['longitude']],\n",
    "        popup=row['name'],\n",
    "    ).add_to(map)\n",
    "\n",
    "map_dir = os.path.join(artifacts_dir, \"top_25_sao_paulo.html\")\n",
    "\n",
    "map.save(map_dir)"
   ]
  },
  {
   "cell_type": "code",
   "execution_count": null,
   "metadata": {},
   "outputs": [],
   "source": []
  }
 ],
 "metadata": {
  "kernelspec": {
   "display_name": "base",
   "language": "python",
   "name": "python3"
  },
  "language_info": {
   "codemirror_mode": {
    "name": "ipython",
    "version": 3
   },
   "file_extension": ".py",
   "mimetype": "text/x-python",
   "name": "python",
   "nbconvert_exporter": "python",
   "pygments_lexer": "ipython3",
   "version": "3.12.4"
  }
 },
 "nbformat": 4,
 "nbformat_minor": 4
}
