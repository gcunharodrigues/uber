{
 "cells": [
  {
   "cell_type": "markdown",
   "metadata": {},
   "source": [
    "# Data extraction"
   ]
  },
  {
   "cell_type": "markdown",
   "metadata": {},
   "source": [
    "## Load file"
   ]
  },
  {
   "cell_type": "code",
   "execution_count": 29,
   "metadata": {},
   "outputs": [],
   "source": [
    "import pandas as pd\n",
    "\n",
    "file = 'output2.csv'\n",
    "path = f'./data/csv/{file}'\n",
    "\n",
    "columns = ['type',\"date\",'time','duration','distance',\"origin\",\"destination\",\n",
    "           'total_earning','base_fare','customer_fare','paid_to_driver',\n",
    "           'paid_to_uber']\n",
    "\n",
    "# load file to df\n",
    "df = pd.read_csv(path, names=columns, header=None)"
   ]
  },
  {
   "cell_type": "code",
   "execution_count": 35,
   "metadata": {},
   "outputs": [
    {
     "name": "stdout",
     "output_type": "stream",
     "text": [
      "Dataframe length:  471\n",
      "\n",
      "Null values: \n",
      "type              28\n",
      "date              28\n",
      "time              28\n",
      "duration          28\n",
      "distance          28\n",
      "origin            28\n",
      "destination       28\n",
      "total_earning     29\n",
      "base_fare         29\n",
      "customer_fare     48\n",
      "paid_to_driver    48\n",
      "paid_to_uber      50\n",
      "dtype: int64\n",
      "\n",
      "Duplicated values:  27\n"
     ]
    }
   ],
   "source": [
    "# checking null values and duplicated values\n",
    "print('Dataframe length: ', df.shape[0])\n",
    "print()\n",
    "print('Null values: ')\n",
    "print(df.isnull().sum())\n",
    "print()\n",
    "print(\"Duplicated values: \", df.duplicated().sum())"
   ]
  },
  {
   "cell_type": "code",
   "execution_count": 36,
   "metadata": {},
   "outputs": [],
   "source": [
    "df1 = df.dropna(ignore_index=True).copy()\n",
    "df1.drop_duplicates(inplace=True)"
   ]
  },
  {
   "cell_type": "code",
   "execution_count": 38,
   "metadata": {},
   "outputs": [
    {
     "name": "stdout",
     "output_type": "stream",
     "text": [
      "Dataframe length:  421\n",
      "\n",
      "Null values: \n",
      "type              0\n",
      "date              0\n",
      "time              0\n",
      "duration          0\n",
      "distance          0\n",
      "origin            0\n",
      "destination       0\n",
      "total_earning     0\n",
      "base_fare         0\n",
      "customer_fare     0\n",
      "paid_to_driver    0\n",
      "paid_to_uber      0\n",
      "dtype: int64\n",
      "\n",
      "Duplicated values:  0\n"
     ]
    }
   ],
   "source": [
    "# checking null values and duplicated values\n",
    "print('Dataframe length: ', df1.shape[0])\n",
    "print()\n",
    "print('Null values: ')\n",
    "print(df1.isnull().sum())\n",
    "print()\n",
    "print(\"Duplicated values: \", df1.duplicated().sum())"
   ]
  },
  {
   "cell_type": "markdown",
   "metadata": {},
   "source": [
    "# Transform data"
   ]
  },
  {
   "cell_type": "code",
   "execution_count": 39,
   "metadata": {},
   "outputs": [],
   "source": [
    "df2 = df1.copy()"
   ]
  },
  {
   "cell_type": "markdown",
   "metadata": {},
   "source": [
    "## Change data to expected formats"
   ]
  },
  {
   "cell_type": "markdown",
   "metadata": {},
   "source": [
    "### Format dates and duration"
   ]
  },
  {
   "cell_type": "code",
   "execution_count": 44,
   "metadata": {},
   "outputs": [],
   "source": [
    "from dateutil import parser\n",
    "\n",
    "def convert_date(date_str):\n",
    "    return parser.parse(date_str).strftime('%Y-%m-%d')\n",
    "\n",
    "def convert_time(time_str):\n",
    "    time_str = parser.parse(time_str)\n",
    "    return time_str.strftime('%H:%M:%S')\n",
    "\n",
    "df2['date'] = df2['date'].apply(convert_date)\n",
    "df2['time'] = df2['time'].apply(convert_time)\n",
    "df2['datetime'] = pd.to_datetime(df2['date'] + ' '+ df2['time'])"
   ]
  },
  {
   "cell_type": "code",
   "execution_count": 45,
   "metadata": {},
   "outputs": [],
   "source": [
    "import pytimeparse\n",
    "from datetime import timedelta\n",
    "\n",
    "def parse_duration(duration_str):\n",
    "    duration = pytimeparse.parse(duration_str) \n",
    "    return timedelta(seconds=duration)\n",
    "\n",
    "df2['duration_dt'] = df2['duration'].apply(parse_duration)"
   ]
  },
  {
   "cell_type": "markdown",
   "metadata": {},
   "source": [
    "### Format distance"
   ]
  },
  {
   "cell_type": "code",
   "execution_count": 47,
   "metadata": {},
   "outputs": [],
   "source": [
    "def get_distance(dist_str):\n",
    "    dist_str = dist_str.split(' ')\n",
    "    if len(dist_str) < 2:\n",
    "        dist_str = 0\n",
    "    else:\n",
    "        dist_str = float(dist_str[0])\n",
    "    return dist_str\n",
    "\n",
    "df2['distance_km'] = df2['distance'].apply(get_distance)"
   ]
  },
  {
   "cell_type": "markdown",
   "metadata": {},
   "source": [
    "### Get geolocation of origin and destination"
   ]
  },
  {
   "cell_type": "code",
   "execution_count": 48,
   "metadata": {},
   "outputs": [],
   "source": [
    "import googlemaps\n",
    "\n",
    "key = './data/places_key.txt'\n",
    "with open(key, 'r') as f:\n",
    "    key_str = f.read()\n",
    "gmaps = googlemaps.Client(key_str)\n",
    "\n",
    "def get_lat_lng(location_str, gmaps=gmaps):\n",
    "    location = gmaps.geocode(location_str)\n",
    "    try:\n",
    "        location_list = list(location[0]['geometry']['location'].values())\n",
    "        return location_list\n",
    "    except:\n",
    "        return None  "
   ]
  },
  {
   "cell_type": "code",
   "execution_count": 49,
   "metadata": {},
   "outputs": [],
   "source": [
    "\n",
    "df2['origin_lat_lng'] = df2['origin'].apply(get_lat_lng)"
   ]
  },
  {
   "cell_type": "code",
   "execution_count": 51,
   "metadata": {},
   "outputs": [],
   "source": [
    "df2['destination_lat_lng'] = df2['destination'].apply(get_lat_lng)"
   ]
  },
  {
   "cell_type": "markdown",
   "metadata": {},
   "source": [
    "### Format values"
   ]
  },
  {
   "cell_type": "code",
   "execution_count": 54,
   "metadata": {},
   "outputs": [],
   "source": [
    "columns_to_transform = ['total_earning', 'base_fare', 'customer_fare', 'paid_to_driver', 'paid_to_uber']\n",
    "df2[columns_to_transform] = df2[columns_to_transform].apply(lambda x: x.str.replace('R\\$', '', regex=True).astype(float))"
   ]
  },
  {
   "cell_type": "code",
   "execution_count": 67,
   "metadata": {},
   "outputs": [],
   "source": [
    "# send df to csv to save dataframe\n",
    "date = pd.Timestamp.now().strftime('%Y-%m-%d')\n",
    "backup = pd.read_csv('./artifacts/saved_df_backup_2025-02-02.csv', index_col=0)\n",
    "backup.to_csv(f'./artifacts/saved_df_backup_{date}.csv')\n"
   ]
  },
  {
   "cell_type": "code",
   "execution_count": 72,
   "metadata": {},
   "outputs": [],
   "source": [
    "\n",
    "concat = pd.concat([backup, df2], ignore_index=True)\n",
    "concat.to_csv('./artifacts/saved_df.csv')"
   ]
  }
 ],
 "metadata": {
  "kernelspec": {
   "display_name": "base",
   "language": "python",
   "name": "python3"
  },
  "language_info": {
   "codemirror_mode": {
    "name": "ipython",
    "version": 3
   },
   "file_extension": ".py",
   "mimetype": "text/x-python",
   "name": "python",
   "nbconvert_exporter": "python",
   "pygments_lexer": "ipython3",
   "version": "3.10.14"
  }
 },
 "nbformat": 4,
 "nbformat_minor": 2
}
